{
  "cells": [
    {
      "cell_type": "markdown",
      "metadata": {
        "id": "Gn0ajaPIkJnn"
      },
      "source": [
        "#  NLP-lab :  Plongements de mots (word embeddings)\n",
        "\n",
        "                                            Christopher Kermorvant\n",
        "\n",
        "                            “The meaning of a word can be inferred by the company it keeps”\n",
        "\n",
        "Dans cette série d'exercices, nous allons explorer  trois  plongements (embeddings) de mots :\n",
        "\n",
        "*  [Collobert & Weston](http://www.jmlr.org/papers/volume12/collobert11a/collobert11a.pdf) https://ronan.collobert.com/senna/\n",
        "* [GloVe](https://nlp.stanford.edu/projects/glove/)\n",
        "* [BERT](https://huggingface.co/bert-base-uncased)\n",
        "\n",
        "   \n",
        "Pour les deux premiers, nous examinerons les mots les plus proches et visualiserons leurs positions dans l'espaces après réduction de dimension. Puis nous procéderons à des [évaluations](https://arxiv.org/pdf/1801.09536.pdf) qualitatives et intrinsèques des embeddings.\n",
        "\n",
        "Enfin nous étudierons les raisonnements par analogies que l'on peut conduire par l'arithmétique sur les embeddings (et leurs biais).\n",
        "\n",
        "Pour BERT, nous étudierons la représentation d'un mot polysémique en fonction de son contexte.\n",
        "\n",
        "Dans le code déjà fourni, ajouter votre code à l'endroit indiqué par `YOUR CODE HERE`.\n"
      ]
    },
    {
      "cell_type": "code",
      "source": [
        "# ! git clone https://github.com/yanisrem/nlp-lab-text-embedding.git"
      ],
      "metadata": {
        "id": "9d4tAnk7kKhZ"
      },
      "execution_count": 1,
      "outputs": []
    },
    {
      "cell_type": "code",
      "execution_count": 2,
      "metadata": {
        "id": "pvu6oLs8kJnq"
      },
      "outputs": [],
      "source": [
        "# basic imports\n",
        "import os\n",
        "\n",
        "# disable warnings for libraries\n",
        "import warnings\n",
        "warnings.filterwarnings(\"ignore\")\n",
        "\n",
        "# configure logger\n",
        "import logging\n",
        "logging.basicConfig(format='%(asctime)s %(levelname)s:%(message)s', level=logging.INFO, datefmt='%I:%M:%S')\n",
        "logger = logging.getLogger(__name__)\n"
      ]
    },
    {
      "cell_type": "markdown",
      "metadata": {
        "id": "FA6oHQvrkJnr"
      },
      "source": [
        "## 1. Les fichiers d'embeddings pré-entraînés\n",
        "\n",
        "Téléchargez dans `data` les fichiers contenant les embeddings :\n",
        "* Collobert (taille 50) : [collobert_embeddings.txt.zip](https://storage.teklia.com/shared/deepnlp-labs/collobert_embeddings.txt.zip) qui contient les vecteurs d'embeddings  et [collobert_words.lst](https://storage.teklia.com/shared/deepnlp-labs/collobert_words.lst) qui contient les mots associés;\n",
        "* Glove (taille 50):  [glove.6B.50d.txt.zip](https://storage.teklia.com/shared/deepnlp-labs/glove.6B.50d.txt.zip) qui contient à la fois les vecteurs et les mots.\n",
        "\n",
        "Il faut décompresser les fichiers pour pouvoir les charger.\n",
        "\n",
        "N'hésitez pas à ouvrir les fichiers pour voir ce qu'ils contiennent (c'est parfois surprennant).\n",
        "\n",
        "#### Question :\n",
        ">* Donner la taille des fichiers d'embeddings avant unzip\n",
        ">* En explorant le contenu des fichiers d'embedding, donner le nombre de mots pour lesquels ces fichiers fournissent des embeddings\n"
      ]
    },
    {
      "cell_type": "markdown",
      "metadata": {
        "id": "OWYRmWJbkJnr"
      },
      "source": [
        "## 2. Exploration des embeddings\n",
        "\n",
        "### Liste des mots les plus proches\n",
        "\n",
        "L'objectif de cet exercice est de lister les mots les plus proches d'un mot donné pour l'embeddings Collobert. Dans un premier temps, nous allons charger les vecteurs de l'embedding Collobert dans un array numpy et les mots associés dans une liste python. Ensuite, nous utiliserons la structure de données [KDTree de scipy](https://docs.scipy.org/doc/scipy/reference/generated/scipy.spatial.KDTree.html) pour faire une recherche rapide des vecteurs les plus proches d'une série de mots.\n",
        "\n",
        "### Chargement des embeddings\n",
        "\n",
        "#### Question :\n",
        ">* charger les vecteurs d'embeddings à partir du fichier `data/collobert_embeddings.txt` en utilisant la fonction numpy [genfromtxt](https://numpy.org/doc/stable/reference/generated/numpy.genfromtxt.html)\n",
        ">* charger dans une liste python les mots associés aux vecteurs à partir du fichier `data/collobert_words.lst` (avec `open()` et `readlines()`)\n",
        ">* vérifiez que les tailles sont correctes\n",
        "\n"
      ]
    },
    {
      "cell_type": "code",
      "execution_count": 3,
      "metadata": {
        "id": "MuLzj6FlkJnr"
      },
      "outputs": [],
      "source": [
        "import numpy as np\n",
        "# YOUR CODE HERE\n",
        "\n",
        "embeddings_collobert = np.genfromtxt(\"/content/data/collobert_embeddings.txt\")\n",
        "with open(r\"/content/data/collobert_words.lst\", \"r\") as file:\n",
        "    collobert_words = [e.strip() for e in file.readlines()]"
      ]
    },
    {
      "cell_type": "code",
      "source": [
        "len(embeddings_collobert)"
      ],
      "metadata": {
        "colab": {
          "base_uri": "https://localhost:8080/"
        },
        "id": "1SfbOUK8psyp",
        "outputId": "3a41f743-23c4-42f1-f3fb-1fec5f86a525"
      },
      "execution_count": 4,
      "outputs": [
        {
          "output_type": "execute_result",
          "data": {
            "text/plain": [
              "130000"
            ]
          },
          "metadata": {},
          "execution_count": 4
        }
      ]
    },
    {
      "cell_type": "code",
      "source": [
        "len(collobert_words)"
      ],
      "metadata": {
        "colab": {
          "base_uri": "https://localhost:8080/"
        },
        "id": "f4pK3yOaptsC",
        "outputId": "1b4745f8-629c-4f6a-bd47-2a5d60d518d8"
      },
      "execution_count": 5,
      "outputs": [
        {
          "output_type": "execute_result",
          "data": {
            "text/plain": [
              "130000"
            ]
          },
          "metadata": {},
          "execution_count": 5
        }
      ]
    },
    {
      "cell_type": "markdown",
      "metadata": {
        "id": "kZJ2uahQkJns"
      },
      "source": [
        "Les arbres KD (KD tree) sont une structure de données très efficace pour stocker de grands ensemble de points dans une espace multi-dimensionnel et faire des recherches très efficaces de plus proches voisins.\n",
        "\n",
        "#### Question\n",
        "> * Initialisez la structure de [KDTree](https://docs.scipy.org/doc/scipy/reference/generated/scipy.spatial.KDTree.html) avec les vecteurs d'embeddings de Collobert\n",
        "> * En utilisant la fonction [tree.query](https://docs.scipy.org/doc/scipy/reference/generated/scipy.spatial.KDTree.query.html#scipy.spatial.KDTree.query), afficher les 5 mots les plus proches des mots suivants : 'mother', 'computer', 'dentist', 'war', 'president', 'secretary', 'nurse'\n",
        "     * *Indice : vous pouvez utiliser la fonction `collobert_words.index(w)` pour obtenir l'indice d'un mot dans la liste des mots*\n",
        "> * Créer une liste `words_plus_neighbors` contenant les mots et tous leurs voisins (pour la question suivante)"
      ]
    },
    {
      "cell_type": "code",
      "execution_count": 6,
      "metadata": {
        "colab": {
          "base_uri": "https://localhost:8080/"
        },
        "id": "Cjlz8ZRwkJns",
        "outputId": "482e0d75-12a9-4898-f333-762437eeeefa"
      },
      "outputs": [
        {
          "output_type": "stream",
          "name": "stdout",
          "text": [
            "['mother', 'daughter', 'wife', 'father', 'husband', 'son', 'computer', 'laptop', 'multimedia', 'desktop', 'software', 'wiki', 'dentist', 'pharmacist', 'midwife', 'physician', 'housekeeper', 'veterinarian', 'war', 'revolution', 'death', 'court', 'independence', 'history', 'president', 'governor', 'chairman', 'mayor', 'secretary', 'senator', 'secretary', 'minister', 'treasurer', 'chairman', 'commissioner', 'undersecretary', 'nurse', 'physician', 'veterinarian', 'dentist', 'surgeon', 'midwife']\n"
          ]
        }
      ],
      "source": [
        "from scipy import spatial\n",
        "# YOUR CODE HERE\n",
        "\n",
        "list_words = ['mother', 'computer', 'dentist', 'war', 'president', 'secretary', 'nurse']\n",
        "words_plus_neighbors = []\n",
        "kd_tree = spatial.KDTree(data = embeddings_collobert)\n",
        "\n",
        "for word in list_words:\n",
        "  index = collobert_words.index(word)\n",
        "  x = embeddings_collobert[index]\n",
        "  neighbors = list(kd_tree.query(x, k = 6)[1][0:])\n",
        "  words_plus_neighbors.extend([collobert_words[i] for i in neighbors])\n",
        "\n",
        "print(words_plus_neighbors)"
      ]
    },
    {
      "cell_type": "markdown",
      "metadata": {
        "id": "iB9Iqg01kJns"
      },
      "source": [
        "### Visualisation avec T-SNE\n",
        "\n",
        "Les embeddings sont des vecteurs de plusieurs centaines de dimensions. Il n'est donc pas possible de les visualiser dans leur espace d'origine. Il est par contre possible d'appliquer des algorithmes de réduction de dimension pour les visualiser en 2 ou 3 dimension. Un des algorithmes de réduction de dimension permettant une visualisation en 2D est [tSNE](https://en.wikipedia.org/wiki/T-distributed_stochastic_neighbor_embedding).\n",
        "\n",
        "#### Question\n",
        "> * créer un object `word_vectors` de type `np.array` à partir d'une liste contenant tous les embeddings des mots de la liste `words_plus_neighbors`\n",
        "> * créer un objet tSNE à partir de la librairie `from sklearn.manifold import TSNE` avec les paramètres `random_state=0`, `n_iter=2000` et `perplexity=15.0` pour une visualisation en 2 dimensions\n",
        "> * Calculer *T* la transformation tSNE des vecteur `word_vectors` en appliquant la function `.fit_transform(word_vectors)` à l'objet tSNE. Cette fonction estime les paramètres de la transformation tSNE et retourne la représentation en dimension réduite des vecteurs utilisés pour l'estimation.\n",
        "> * Utiliser la fonction `scatterplot` de [seaborn](https://seaborn.pydata.org/generated/seaborn.scatterplot.html) pour représenter les points en 2 dimensions  et ajouter les labels des mots avec la function `plt.annotate`."
      ]
    },
    {
      "cell_type": "code",
      "execution_count": 7,
      "metadata": {
        "colab": {
          "base_uri": "https://localhost:8080/",
          "height": 451
        },
        "id": "FNvFoPMFkJns",
        "outputId": "f548a4f0-6571-46ad-9eb0-da1d3d1dc8b2"
      },
      "outputs": [
        {
          "output_type": "stream",
          "name": "stdout",
          "text": [
            "(42, 50)\n"
          ]
        },
        {
          "output_type": "display_data",
          "data": {
            "text/plain": [
              "<Figure size 640x480 with 1 Axes>"
            ],
            "image/png": "[encoded data removed]"
          },
          "metadata": {}
        }
      ],
      "source": [
        "from sklearn.manifold import TSNE\n",
        "# graphics\n",
        "import matplotlib.pyplot as plt\n",
        "# display matplotlib graphics in notebook\n",
        "%matplotlib inline\n",
        "import seaborn as sns\n",
        "\n",
        "# retrieve the word representation\n",
        "# YOUR CODE HERE\n",
        "words_plus_neighbors_vector = []\n",
        "\n",
        "for word in words_plus_neighbors:\n",
        "  index_word = collobert_words.index(word)\n",
        "  embedding_word = embeddings_collobert[index_word]\n",
        "  words_plus_neighbors_vector.append(embedding_word)\n",
        "word_vectors = np.array(words_plus_neighbors_vector)\n",
        "print(word_vectors.shape)\n",
        "# create the tSNE transform\n",
        "# YOUR CODE HERE\n",
        "\n",
        "tsne = TSNE(n_components = 2,\n",
        "            random_state = 0,\n",
        "            n_iter = 2000,\n",
        "            perplexity = 15)\n",
        "\n",
        "# fit and transform the word vectors, store in T\n",
        "# YOUR CODE HERE\n",
        "\n",
        "T = tsne.fit_transform(word_vectors)\n",
        "\n",
        "# plot\n",
        "fig = plt.figure()\n",
        "fig.patch.set_facecolor('#f9f9f9')\n",
        "\n",
        "sns.set(rc={'figure.figsize':(14, 8)})\n",
        "sns.set(font_scale=1)\n",
        "\n",
        "sns.scatterplot(x=T[:, 0], y=T[:, 1])\n",
        "\n",
        "for label, x, y in zip(words_plus_neighbors, T[:, 0], T[:, 1]):\n",
        "    plt.annotate(label, xy=(x+1, y+1), xytext=(0, 0), textcoords='offset points')\n",
        "\n"
      ]
    },
    {
      "cell_type": "markdown",
      "metadata": {
        "id": "75XQ3yNfkJns"
      },
      "source": [
        "## 3. Evaluation des embeddings\n",
        "\n",
        "### Évaluation intrinsèque\n",
        "\n",
        "[A Survey of Word Embeddings Evaluation Methods](https://arxiv.org/pdf/1801.09536.pdf), Bakarov, 2018.\n",
        "\n",
        "\n",
        ">les distances entre les mots dans un espace vectoriel pourraient être évaluées à l'aide des jugements heuristiques humains sur les distances sémantiques réelles entre ces mots (par exemple, la distance entre tasse et gobelet définies dans un intervalle continu 0, 1 serait 0.8 puisque ces mots sont synonymes, mais pas vraiment la même chose).\n",
        "\n"
      ]
    },
    {
      "cell_type": "markdown",
      "metadata": {
        "id": "kabTQzE2kJns"
      },
      "source": [
        "### Téléchargement des datasets pré-établis et annotés manuellement\n",
        "\n",
        "Nous allons utiliser 4 jeux de données  pour évaluer la qualité des embeddings : [MEN](http://clic.cimec.unitn.it/~elia.bruni/MEN.html), [WS353R](http://www.aclweb.org/anthology/N09-1003.pdf), [SimLex999](http://leviants.com/ira.leviant/MultilingualVSMdata.html) et [MTurk](http://citeseerx.ist.psu.edu/viewdoc/download?doi=10.1.1.205.8607&rep=rep1&type=pdf).\n",
        "\n",
        "\n",
        "Ces jeux de données contiennent des paires de mots dont la proximité sémantique a été évaluée manuellement par des humains. Pour chaque dataset, dataset.X contient une liste de paires de mots et dataset.y contient le score de proximité pour chaque paire.\n",
        "\n",
        "* MEN, 3 000 paires évaluées par relation sémantique avec une échelle discrète de 0 à 50\n",
        "* SimLex-999, 999 paires évaluées avec un fort respect pour la similarité sémantique avec une échelle de 0 à 10\n",
        "* MTurk-287, 287 paires évaluées par relation sémantique avec une échelle de 0 à 5\n",
        "* WordSim-353, 353 paires évaluées par similarité sémantique (cependant, certains chercheurs trouvent les instructions pour les évaluateurs ambiguës en ce qui concerne la similarité et l'association) sur une échelle de 0 à 10"
      ]
    },
    {
      "cell_type": "code",
      "source": [
        "import similarity\n"
      ],
      "metadata": {
        "id": "J9Tq_rxwxtYr",
        "outputId": "2a1d5660-830b-439c-d109-e20e40e919e6",
        "colab": {
          "base_uri": "https://localhost:8080/",
          "height": 459
        }
      },
      "execution_count": 10,
      "outputs": [
        {
          "output_type": "error",
          "ename": "ImportError",
          "evalue": "cannot import name 'jaro_winkler' from 'jellyfish' (/usr/local/lib/python3.10/dist-packages/jellyfish/__init__.py)",
          "traceback": [
            "\u001b[0;31m---------------------------------------------------------------------------\u001b[0m",
            "\u001b[0;31mImportError\u001b[0m                               Traceback (most recent call last)",
            "\u001b[0;32m<ipython-input-10-fad6ecedfe28>\u001b[0m in \u001b[0;36m<cell line: 1>\u001b[0;34m()\u001b[0m\n\u001b[0;32m----> 1\u001b[0;31m \u001b[0;32mimport\u001b[0m \u001b[0msimilarity\u001b[0m\u001b[0;34m\u001b[0m\u001b[0;34m\u001b[0m\u001b[0m\n\u001b[0m",
            "\u001b[0;32m/usr/local/lib/python3.10/dist-packages/similarity/__init__.py\u001b[0m in \u001b[0;36m<module>\u001b[0;34m\u001b[0m\n\u001b[1;32m      1\u001b[0m \u001b[0;34m\u001b[0m\u001b[0m\n\u001b[0;32m----> 2\u001b[0;31m \u001b[0;32mfrom\u001b[0m \u001b[0;34m.\u001b[0m\u001b[0mconvert_score_and_distance_functions\u001b[0m \u001b[0;32mimport\u001b[0m \u001b[0mconvert_distance_function_to_score_function\u001b[0m\u001b[0;34m\u001b[0m\u001b[0;34m\u001b[0m\u001b[0m\n\u001b[0m\u001b[1;32m      3\u001b[0m \u001b[0;32mfrom\u001b[0m \u001b[0;34m.\u001b[0m\u001b[0mconvert_score_and_distance_functions\u001b[0m \u001b[0;32mimport\u001b[0m \u001b[0mcreate_weighted_similarity_function\u001b[0m\u001b[0;34m\u001b[0m\u001b[0;34m\u001b[0m\u001b[0m\n\u001b[1;32m      4\u001b[0m \u001b[0;34m\u001b[0m\u001b[0m\n\u001b[1;32m      5\u001b[0m \u001b[0;32mfrom\u001b[0m \u001b[0;34m.\u001b[0m\u001b[0mWord\u001b[0m \u001b[0;32mimport\u001b[0m \u001b[0mWord\u001b[0m\u001b[0;34m\u001b[0m\u001b[0;34m\u001b[0m\u001b[0m\n",
            "\u001b[0;32m/usr/local/lib/python3.10/dist-packages/similarity/convert_score_and_distance_functions.py\u001b[0m in \u001b[0;36m<module>\u001b[0;34m\u001b[0m\n\u001b[1;32m      1\u001b[0m \u001b[0;32mfrom\u001b[0m \u001b[0meditdistance\u001b[0m \u001b[0;32mimport\u001b[0m \u001b[0meval\u001b[0m \u001b[0;32mas\u001b[0m \u001b[0mget_edit_distance\u001b[0m\u001b[0;34m\u001b[0m\u001b[0;34m\u001b[0m\u001b[0m\n\u001b[0;32m----> 2\u001b[0;31m \u001b[0;32mfrom\u001b[0m \u001b[0mjellyfish\u001b[0m \u001b[0;32mimport\u001b[0m \u001b[0mjaro_winkler\u001b[0m \u001b[0;32mas\u001b[0m \u001b[0mget_similarity\u001b[0m\u001b[0;34m\u001b[0m\u001b[0;34m\u001b[0m\u001b[0m\n\u001b[0m\u001b[1;32m      3\u001b[0m \u001b[0;34m\u001b[0m\u001b[0m\n\u001b[1;32m      4\u001b[0m \u001b[0;32mdef\u001b[0m \u001b[0mconvert_distance_function_to_score_function\u001b[0m\u001b[0;34m(\u001b[0m\u001b[0mfunction\u001b[0m\u001b[0;34m=\u001b[0m\u001b[0mget_edit_distance\u001b[0m\u001b[0;34m)\u001b[0m\u001b[0;34m:\u001b[0m\u001b[0;34m\u001b[0m\u001b[0;34m\u001b[0m\u001b[0m\n\u001b[1;32m      5\u001b[0m         \u001b[0;32mdef\u001b[0m \u001b[0mscore_func\u001b[0m\u001b[0;34m(\u001b[0m\u001b[0ms1\u001b[0m\u001b[0;34m,\u001b[0m \u001b[0ms2\u001b[0m\u001b[0;34m)\u001b[0m\u001b[0;34m:\u001b[0m\u001b[0;34m\u001b[0m\u001b[0;34m\u001b[0m\u001b[0m\n",
            "\u001b[0;31mImportError\u001b[0m: cannot import name 'jaro_winkler' from 'jellyfish' (/usr/local/lib/python3.10/dist-packages/jellyfish/__init__.py)",
            "",
            "\u001b[0;31m---------------------------------------------------------------------------\u001b[0;32m\nNOTE: If your import is failing due to a missing package, you can\nmanually install dependencies using either !pip or !apt.\n\nTo view examples of installing some common dependencies, click the\n\"Open Examples\" button below.\n\u001b[0;31m---------------------------------------------------------------------------\u001b[0m\n"
          ],
          "errorDetails": {
            "actions": [
              {
                "action": "open_url",
                "actionText": "Open Examples",
                "url": "/notebooks/snippets/importing_libraries.ipynb"
              }
            ]
          }
        }
      ]
    },
    {
      "cell_type": "code",
      "execution_count": 9,
      "metadata": {
        "colab": {
          "base_uri": "https://localhost:8080/",
          "height": 529
        },
        "id": "raYQysZakJns",
        "outputId": "4aea6077-be72-4127-b1ab-bd98038e26b8"
      },
      "outputs": [
        {
          "output_type": "error",
          "ename": "ImportError",
          "evalue": "cannot import name 'jaro_winkler' from 'jellyfish' (/usr/local/lib/python3.10/dist-packages/jellyfish/__init__.py)",
          "traceback": [
            "\u001b[0;31m---------------------------------------------------------------------------\u001b[0m",
            "\u001b[0;31mImportError\u001b[0m                               Traceback (most recent call last)",
            "\u001b[0;32m<ipython-input-9-3315ea4d6d7e>\u001b[0m in \u001b[0;36m<cell line: 2>\u001b[0;34m()\u001b[0m\n\u001b[1;32m      1\u001b[0m \u001b[0;31m# custom functions\u001b[0m\u001b[0;34m\u001b[0m\u001b[0;34m\u001b[0m\u001b[0m\n\u001b[0;32m----> 2\u001b[0;31m \u001b[0;32mimport\u001b[0m \u001b[0msimilarity\u001b[0m\u001b[0;34m\u001b[0m\u001b[0;34m\u001b[0m\u001b[0m\n\u001b[0m\u001b[1;32m      3\u001b[0m \u001b[0;34m\u001b[0m\u001b[0m\n\u001b[1;32m      4\u001b[0m similarity_tasks = {\n\u001b[1;32m      5\u001b[0m     \u001b[0;34m\"MEN\"\u001b[0m\u001b[0;34m:\u001b[0m \u001b[0msimilarity\u001b[0m\u001b[0;34m.\u001b[0m\u001b[0mfetch_MEN\u001b[0m\u001b[0;34m(\u001b[0m\u001b[0;34m)\u001b[0m\u001b[0;34m,\u001b[0m\u001b[0;34m\u001b[0m\u001b[0;34m\u001b[0m\u001b[0m\n",
            "\u001b[0;32m/usr/local/lib/python3.10/dist-packages/similarity/__init__.py\u001b[0m in \u001b[0;36m<module>\u001b[0;34m\u001b[0m\n\u001b[1;32m      1\u001b[0m \u001b[0;34m\u001b[0m\u001b[0m\n\u001b[0;32m----> 2\u001b[0;31m \u001b[0;32mfrom\u001b[0m \u001b[0;34m.\u001b[0m\u001b[0mconvert_score_and_distance_functions\u001b[0m \u001b[0;32mimport\u001b[0m \u001b[0mconvert_distance_function_to_score_function\u001b[0m\u001b[0;34m\u001b[0m\u001b[0;34m\u001b[0m\u001b[0m\n\u001b[0m\u001b[1;32m      3\u001b[0m \u001b[0;32mfrom\u001b[0m \u001b[0;34m.\u001b[0m\u001b[0mconvert_score_and_distance_functions\u001b[0m \u001b[0;32mimport\u001b[0m \u001b[0mcreate_weighted_similarity_function\u001b[0m\u001b[0;34m\u001b[0m\u001b[0;34m\u001b[0m\u001b[0m\n\u001b[1;32m      4\u001b[0m \u001b[0;34m\u001b[0m\u001b[0m\n\u001b[1;32m      5\u001b[0m \u001b[0;32mfrom\u001b[0m \u001b[0;34m.\u001b[0m\u001b[0mWord\u001b[0m \u001b[0;32mimport\u001b[0m \u001b[0mWord\u001b[0m\u001b[0;34m\u001b[0m\u001b[0;34m\u001b[0m\u001b[0m\n",
            "\u001b[0;32m/usr/local/lib/python3.10/dist-packages/similarity/convert_score_and_distance_functions.py\u001b[0m in \u001b[0;36m<module>\u001b[0;34m\u001b[0m\n\u001b[1;32m      1\u001b[0m \u001b[0;32mfrom\u001b[0m \u001b[0meditdistance\u001b[0m \u001b[0;32mimport\u001b[0m \u001b[0meval\u001b[0m \u001b[0;32mas\u001b[0m \u001b[0mget_edit_distance\u001b[0m\u001b[0;34m\u001b[0m\u001b[0;34m\u001b[0m\u001b[0m\n\u001b[0;32m----> 2\u001b[0;31m \u001b[0;32mfrom\u001b[0m \u001b[0mjellyfish\u001b[0m \u001b[0;32mimport\u001b[0m \u001b[0mjaro_winkler\u001b[0m \u001b[0;32mas\u001b[0m \u001b[0mget_similarity\u001b[0m\u001b[0;34m\u001b[0m\u001b[0;34m\u001b[0m\u001b[0m\n\u001b[0m\u001b[1;32m      3\u001b[0m \u001b[0;34m\u001b[0m\u001b[0m\n\u001b[1;32m      4\u001b[0m \u001b[0;32mdef\u001b[0m \u001b[0mconvert_distance_function_to_score_function\u001b[0m\u001b[0;34m(\u001b[0m\u001b[0mfunction\u001b[0m\u001b[0;34m=\u001b[0m\u001b[0mget_edit_distance\u001b[0m\u001b[0;34m)\u001b[0m\u001b[0;34m:\u001b[0m\u001b[0;34m\u001b[0m\u001b[0;34m\u001b[0m\u001b[0m\n\u001b[1;32m      5\u001b[0m         \u001b[0;32mdef\u001b[0m \u001b[0mscore_func\u001b[0m\u001b[0;34m(\u001b[0m\u001b[0ms1\u001b[0m\u001b[0;34m,\u001b[0m \u001b[0ms2\u001b[0m\u001b[0;34m)\u001b[0m\u001b[0;34m:\u001b[0m\u001b[0;34m\u001b[0m\u001b[0;34m\u001b[0m\u001b[0m\n",
            "\u001b[0;31mImportError\u001b[0m: cannot import name 'jaro_winkler' from 'jellyfish' (/usr/local/lib/python3.10/dist-packages/jellyfish/__init__.py)",
            "",
            "\u001b[0;31m---------------------------------------------------------------------------\u001b[0;32m\nNOTE: If your import is failing due to a missing package, you can\nmanually install dependencies using either !pip or !apt.\n\nTo view examples of installing some common dependencies, click the\n\"Open Examples\" button below.\n\u001b[0;31m---------------------------------------------------------------------------\u001b[0m\n"
          ],
          "errorDetails": {
            "actions": [
              {
                "action": "open_url",
                "actionText": "Open Examples",
                "url": "/notebooks/snippets/importing_libraries.ipynb"
              }
            ]
          }
        }
      ],
      "source": [
        "# custom functions\n",
        "import similarity\n",
        "\n",
        "similarity_tasks = {\n",
        "    \"MEN\": similarity.fetch_MEN(),\n",
        "    \"WS353R\": similarity.fetch_WS353(which=\"relatedness\"),\n",
        "    \"SimLex999\": similarity.fetch_SimLex999(),\n",
        "    \"MTurk\": similarity.fetch_MTurk(),\n",
        "}\n",
        "\n",
        "for name, dataset in similarity_tasks.items():\n",
        "    print('\\n', name, ':',len(dataset.X),'items')\n",
        "    for data, score in zip(dataset.X[:4], dataset.y[:4]):\n",
        "        print(' '*4, ', '.join(data), ':', score)"
      ]
    },
    {
      "cell_type": "markdown",
      "metadata": {
        "id": "JNTGNnVAkJns"
      },
      "source": [
        "### Résultats évaluation intrinsèque\n",
        "\n",
        "Notre objectif est de comparer les similarités entre les paires de mots des datasets calculées à partir des embeddings et celles données par les annotateurs humains. Si un embedding prédit les similarités de la même manière que les humains, on estime qu'il est bon. On peut donc calculer la corrélation entre la proximité donné par l'embedding et celle donnée par les humains pour chaque paire de mots du dataset.\n",
        "\n",
        "Pour cet excercice, nous allons utiliser  le classe [Embeddings](https://polyglot.readthedocs.io/en/latest/polyglot.mapping.html#module-polyglot.mapping.embeddings) de polyglot. Pour charger un embeddind avec cette classe :\n",
        "\n",
        "`glove_embeddings =  Embedding.from_glove('data/glove.6B.50d.txt')`\n",
        "\n",
        "Pour pouvoir charger les embeddings de Collobert de la même manière, il faut mettre les mots et les vecteurs dans un seul fichier, par exemple avec la commande linux `paste`:\n",
        "\n",
        "`paste -d ' ' collobert_words.lst collobert_embeddings.txt > collobert.txt`\n",
        "\n",
        "\n",
        "\n",
        "#### Question\n",
        "\n",
        "> * pour chaque embedding Collober et Glove, et chaque dataset (MEN, WS353R, SimLex999 et MTurk), calculer la similarité entre les proximités données par l'embedding et celles données par les humains. On utilisera la fonction `similarity.evaluate_similarity(word_embeddings, dataset.X, dataset.y)` qui renvoit le [coefficient de correlation de Spearman](https://fr.wikipedia.org/wiki/Corr%C3%A9lation_de_Spearman).\n",
        "> * stocker les scores  pour chaque embedding et chaque dataset dans une liste `similarity_results = []` sous forme d'un dictonnaire : `similarity_results.append({'Embeddings': embeddings_name, 'Dataset': name, 'Score': score})`\n"
      ]
    },
    {
      "cell_type": "code",
      "execution_count": null,
      "metadata": {
        "id": "dV1vMpQqkJns"
      },
      "outputs": [],
      "source": [
        "# embedding functions\n",
        "from polyglot.mapping import Embedding\n",
        "\n",
        "similarity_results = []\n",
        "\n",
        "# Load both embeddings with Embedding.from_glove from Polyglot\n",
        "# YOUR CODE HERE\n",
        "\n",
        "# Loop on embeddings\n",
        "for embeddings_name, embeddings in [('collobert', collobert_embeddings), ('glove', glove_embeddings)]:\n",
        "    # loop on tasks\n",
        "    for name, dataset in similarity_tasks.items():\n",
        "        # compute similarity\n",
        "        # YOUR CODE HERE\n",
        "\n"
      ]
    },
    {
      "cell_type": "markdown",
      "metadata": {
        "id": "jGqYBOs0kJnt"
      },
      "source": [
        "### Visualisation des résultats de similarité\n",
        "\n",
        "Le code suivant permet de visualiser les coefficients de corrélation pour chaque dataset sur les différents jeux de test.\n",
        "\n",
        "#### Question\n",
        "> * Quel est selon ces métriques le meilleur embedding ?"
      ]
    },
    {
      "cell_type": "code",
      "execution_count": null,
      "metadata": {
        "id": "68kmO-R3kJnt"
      },
      "outputs": [],
      "source": [
        "import pandas as pd\n",
        "\n",
        "\n",
        "df = pd.DataFrame.from_dict(similarity_results, orient='columns')\n",
        "df\n",
        "\n",
        "fig = plt.figure()\n",
        "fig.patch.set_facecolor('#f9f9f9')\n",
        "\n",
        "\n",
        "\n",
        "sns.set(rc={'figure.figsize':(8, 6)})\n",
        "sns.set(font_scale=1)\n",
        "\n",
        "colors = [\"#e74c3c\", \"#75d9fc\", \"#b4e0ef\", \"#34495e\", \"#e74c3c\", \"#2ecc71\"]\n",
        "ax = sns.barplot(x=\"Dataset\", y=\"Score\", hue=\"Embeddings\", data=df, errwidth=0, palette=sns.color_palette(colors))\n",
        "\n",
        "\n",
        "ax.legend(loc=9, bbox_to_anchor=(0.5, -0.1), ncol=3, fancybox=True, shadow=False)\n",
        "ax.set(xlabel=\"\", ylabel=\"\")\n",
        "\n",
        "plt.show()"
      ]
    },
    {
      "cell_type": "markdown",
      "metadata": {
        "id": "csKdNwpUkJnt"
      },
      "source": [
        "## Évaluation d'analogies\n",
        "\n",
        "Notre objectif est maintenant d'explorer les relations sémantiques induites par l'arithmétique sur les embeddings. Nous allons donc explorer les analogies induites par les embeddings sous forme de raisonnement du type : \"l'homme est au roi ce que la femme est à ?\", la réponse étant \"la reine\". On peut calculer la réponse avec les représentations fournies par l'embedding par :  \n",
        "\n",
        "`v = vecteur(roi)-vecteur(homme)+vecteur(femme)`.\n",
        "\n",
        "La réponse étant alors le mot dont la représentation est la plus proche du vecteur `v`. Pour trouver le mot dont le vecteur est le plus proche de `v`, il faut définir une distance dans l'espace des embeddings. Nous utiliserons la [similarité cosinus](https://fr.wikipedia.org/wiki/Similarit%C3%A9_cosinus)\n",
        "\n",
        "#### Question\n",
        ">* Implémenter la similarity cosinus à l'aide des fonctions [np.dot](https://docs.scipy.org/doc/numpy/reference/generated/numpy.dot.html#numpy.dot) et [np.linalg.norm](https://docs.scipy.org/doc/numpy/reference/generated/numpy.linalg.norm.html#numpy.linalg.norm)\n",
        ">* Appliquer le calcul d'analogies sur les triplets proposés ou ceux de votre choix. Observez-vous [ce phénomène](https://arxiv.org/pdf/1607.06520.pdf) ?"
      ]
    },
    {
      "cell_type": "code",
      "execution_count": null,
      "metadata": {
        "id": "KDXQeni6kJnt"
      },
      "outputs": [],
      "source": [
        "def my_cosine_similarity(a,b):\n",
        "    # YOUR CODE HERE\n",
        "\n",
        "def sorted_by_similarity(word_embeddings, base_vector):\n",
        "    \"\"\"Returns words sorted by cosine distance to a given vector, most similar first\"\"\"\n",
        "    words_with_distance = [(my_cosine_similarity(base_vector, word_embeddings[w]), w)\n",
        "                           for w in word_embeddings.vocabulary]\n",
        "\n",
        "    return sorted(words_with_distance, key=lambda t: t[0], reverse=True)\n",
        "\n",
        "def is_redundant(word):\n",
        "    return (\n",
        "        word_1.lower() in word.lower() or\n",
        "        word_2.lower() in word.lower() or\n",
        "        word_3.lower() in word.lower())\n",
        "\n",
        "\n",
        "pairs = [(['man', 'woman'], 'king'),\n",
        "         (['man', 'programmer'], 'woman'),\n",
        "         (['father', 'doctor'], 'mother'),\n",
        "         (['father', 'facebook'], 'mother')\n",
        "        ]\n",
        "\n",
        "words_and_responses = []\n",
        "\n",
        "# Note : you may need to update the following line with your Polyglot Embeddings\n",
        "for embeddings_name, embeddings in [('collobert', collobert_embeddings), ('glove', glove_embeddings)]:\n",
        "    for pair in pairs:\n",
        "        word_1, word_2, word_3 = pair[0][0], pair[0][1], pair[1]\n",
        "\n",
        "        closest = sorted_by_similarity(embeddings,\n",
        "                                       embeddings[word_2] - embeddings[word_1] +\n",
        "                                       embeddings[word_3])[:10]\n",
        "\n",
        "        closest = [(dist, w) for (dist, w) in closest if not is_redundant(w)] #\n",
        "\n",
        "        print(\"{} + {} - {} = ? {}\".format(word_2, word_3, word_1, closest[0][1]))\n",
        "        words_and_responses += [word_1, word_2, word_3,closest[0][1]]"
      ]
    },
    {
      "cell_type": "markdown",
      "metadata": {
        "id": "snDdnZf9kJnt"
      },
      "source": [
        "### Visualisation des analogies\n",
        "\n",
        "Les relations d'analogies peuvent se visualiser dans l'espace des embeddings après réduction de dimension, par exemple avec tSNE."
      ]
    },
    {
      "cell_type": "code",
      "execution_count": null,
      "metadata": {
        "id": "BBWjiQyikJnt"
      },
      "outputs": [],
      "source": [
        "# Note : you may need to update the following line with your Polyglot Embeddings\n",
        "for embeddings_name, embeddings in [('collobert', collobert_embeddings), ('glove', glove_embeddings)]:\n",
        "\n",
        "    word_vectors = np.array([embeddings[word] for word in words_and_responses[:4]])\n",
        "\n",
        "    tsne = TSNE(n_components=2, random_state=0, n_iter=1000, perplexity=3.0)\n",
        "    np.set_printoptions(suppress=True)\n",
        "    T = tsne.fit_transform(word_vectors)\n",
        "\n",
        "    fig = plt.figure()\n",
        "    fig.patch.set_facecolor('#f9f9f9')\n",
        "\n",
        "    sns.set(rc={'figure.figsize':(6, 6)})\n",
        "    sns.set(font_scale=1.3)\n",
        "\n",
        "    sns.scatterplot(x=T[:, 0], y=T[:, 1])\n",
        "\n",
        "    for label, x, y in zip(words_and_responses, T[:, 0], T[:, 1]):\n",
        "        plt.annotate(label, xy=(x+1, y+1), xytext=(0, 0), textcoords='offset points')"
      ]
    },
    {
      "cell_type": "markdown",
      "metadata": {
        "id": "-1zWN9ESkJnt"
      },
      "source": [
        "## Evaluation des embeddings de BERT\n",
        "\n",
        "BERT a été un des premiers modèles de langue Transformer, entraînés sur de gros corpus, disponible librement. De nombreux modèles sont disponibles sur HuggingFace.\n",
        "\n",
        "Comme BERT est un modèle contextuel, il est nécessaire de lui faire prédire des phrases entières pour étudier les embeddings de mots qu'il produit. Dans cette section, nous allons comparer les embeddings obtenus pour des mots polysémiques en fonction de la phrase dans laquelle ils sont utilisés.\n",
        "\n",
        "En anglais, *plant* possède deux sens : celui d'usine et celui d'un végétal. Avec un embedding non contextuel, de type Glove ou Colobert, ces deux sens du mot plus sont associés à un identique embedding. Avec BERT, nous allons voir que le même mot peut avoir plusieurs embeddings en fonction du contexte.\n",
        "\n",
        "First, load the BERT model and tokenizer from HuggingFace :"
      ]
    },
    {
      "cell_type": "code",
      "execution_count": null,
      "metadata": {
        "id": "AVxvGYg7kJnt"
      },
      "outputs": [],
      "source": [
        "import torch\n",
        "from transformers import BertTokenizer, BertModel\n",
        "tokenizer = BertTokenizer.from_pretrained('bert-base-uncased')\n",
        "# Load pre-trained model\n",
        "model = BertModel.from_pretrained('bert-base-uncased',\n",
        "                                  output_hidden_states = True, # to access the hidden states\n",
        "                                  )\n",
        "# set the model to \"evaluation\" mode\n",
        "model.eval()"
      ]
    },
    {
      "cell_type": "markdown",
      "metadata": {
        "id": "tgBhI8LFkJnt"
      },
      "source": [
        "### Tokenizer\n",
        "\n",
        "Les modèles de langues sont entrainés avec un découpe spécifique des phrases en token. Ces tokens peuvent être des mots ou des parties de mots. Il est nécessaire d'utiliser le tokenizer correspondant à chaque model.\n",
        "\n",
        "tokenizer.vocab.keys() donne la liste de tous les tokens connus du modèle de langue.\n",
        "\n",
        "#### Question\n",
        ">* combien de token différents sont connu du tokenizer de BERT ?\n",
        ">* affichez une centaine de token aléatoirement. Que constatez-vous ?"
      ]
    },
    {
      "cell_type": "code",
      "execution_count": null,
      "metadata": {
        "id": "ZY3JzfFrkJnu"
      },
      "outputs": [],
      "source": [
        "import random\n",
        "# number of token in tokenizer\n",
        "# YOU CODE HERE\n",
        "# sample of 100 tokens\n",
        "# YOU CODE HERE\n"
      ]
    },
    {
      "cell_type": "markdown",
      "metadata": {
        "id": "-xt45VRQkJnu"
      },
      "source": [
        "Le tokenizer découpe les phrases et transforme les éléments (mots ou sous-mots) en indice.\n",
        "\n",
        "BERT peut traiter plusieurs phrases mais il faut lui indiquer le découpage en phrases (segment) avec un indice : 0 pour la première phrases, 1 pour la deuxième.\n",
        "\n",
        "Deux tokens spécifiques doivent être aussi ajoutés :\n",
        "* [CLS], un token spécifique utilisé pour la classification de phrase\n",
        "* [SEP], le token de fin de phrase.\n",
        "\n",
        "#### Question\n",
        ">* Appliquer la fonction bert_tokenize sur les 3 phases et conservez les 3 vecteurs (index, token, segment)\n",
        ">* Affichez ces informations pour chacune des phrases et vérifier que le mot *plant* a bien le même indice de token dans les deux phrases où il apparait."
      ]
    },
    {
      "cell_type": "code",
      "execution_count": null,
      "metadata": {
        "id": "j4Un7phXkJnu"
      },
      "outputs": [],
      "source": [
        "snt1 = \"The plant has reached its maximal level of production.\"\n",
        "snt2 = \"The cars are assembled inside the factory.\"\n",
        "snt3 = \"A plant needs sunlight and water to grow well.\"\n",
        "\n",
        "\n",
        "def bert_tokenize(snt):\n",
        "    \"\"\" Apply the BERT tokenizer to a list of words representing a sentence\n",
        "        and return 3 lists:\n",
        "        - list of token indx\n",
        "        - list of token for debugging, not used by the BERT model\n",
        "        - list of sentence index\n",
        "        \"\"\"\n",
        "    # Add the special tokens.\n",
        "    tagged_snt = \"[CLS] \" + snt + \" [SEP]\"\n",
        "    # Tokenize\n",
        "    tokenized_snt = tokenizer.tokenize(tagged_snt)\n",
        "    # convert tokens to indices\n",
        "    indexed_snt = tokenizer.convert_tokens_to_ids(tokenized_snt)\n",
        "    # mark the words in sentence.\n",
        "    segments_ids = [1] * len(tokenized_snt)\n",
        "\n",
        "    return (indexed_snt, tokenized_snt, segments_ids)\n",
        "\n",
        "# YOUR CODE HERE\n",
        "\n"
      ]
    },
    {
      "cell_type": "markdown",
      "metadata": {
        "id": "oNluSYm8kJnu"
      },
      "source": [
        "## Inférence\n",
        "\n",
        "Pour calculer les embeddings, il est nécessaire de faire une prédiction avec le modèle BERT sur une phrase complète. La fonction *predict_hidden* convertit les listes d'indices de token et de segment en tenseur pytorch et applique le modèle.\n",
        "\n",
        "Le modème utilisé est un modèle à 12 couches. Nous allons utiliser la dernière couche caché du modèle comme embedding pour représenter les mots. D'autres solutions serait possible, comme une concaténation ou une moyene de plusieurs couches.\n",
        "\n",
        "\n",
        "#### Question\n",
        ">* Appliquer le modèle à chacune des 3 phrases et stocker les embeddings obtenus (tenseurs)\n",
        ">* Afficher la dimension des tenseurs obtenus. Quelle est la dimension du vecteur d'embedding pour chaque mot ?\n"
      ]
    },
    {
      "cell_type": "code",
      "execution_count": null,
      "metadata": {
        "id": "cM-RDxe-kJnu"
      },
      "outputs": [],
      "source": [
        "\n",
        "def predict_hidden(indexed_snt, segments_ids):\n",
        "    \"\"\"Apply the BERT model to the input token indices and segment indices\n",
        "        and return the last hidden layer\n",
        "    \"\"\"\n",
        "    with torch.no_grad():\n",
        "        # Convert inputs to PyTorch tensors\n",
        "        tokens_tensor = torch.tensor([indexed_snt])\n",
        "        segments_tensors = torch.tensor([segments_ids])\n",
        "        outputs = model(tokens_tensor, segments_tensors)\n",
        "        hidden_states = outputs[2]\n",
        "        one_hidden_layer = hidden_states[12][0]\n",
        "\n",
        "    return one_hidden_layer\n",
        "\n",
        "# YOUR CODE HERE\n",
        "\n"
      ]
    },
    {
      "cell_type": "markdown",
      "metadata": {
        "id": "qmbpY-OpkJnu"
      },
      "source": [
        "La couche cachée renvoyée par la fonction *predict_hidden* est un tenseur contenant pour chaque token de la phrase d'entrée un vecteur contextuel le représentant. On peut utiliser ce vecteur pour représenter le sens de ce mot en fonction de son contexte. Nous allons comparer la représentation du mot polysémique *plant* en fonction de son contexte.\n",
        "\n",
        "#### Question\n",
        ">* En utilisant la [distance cosinus](https://docs.scipy.org/doc/scipy/reference/generated/scipy.spatial.distance.cosine.html), calculer les distances suivantes:\n",
        ">   * distance entre *plant* dans la phrase 1 (plant-factory) et *plant* dans la phrase 3 (plant-vegetal)\n",
        ">   * distance entre *plant* dans la phrase 1 (plant-factory) et *factory* dans la phrase 2\n",
        ">   * distance entre *plant* dans la phrase 1 (plant-factory) et *production* dans la phrase 2\n",
        ">   * distance entre *plant* dans la phrase 3 (plant-vegetal) et *production* dans la phrase 2\n",
        "> * Comment interprêter ces distances ?"
      ]
    },
    {
      "cell_type": "code",
      "execution_count": null,
      "metadata": {
        "id": "mFTXlxvvkJnu"
      },
      "outputs": [],
      "source": [
        "from scipy.spatial.distance import cosine\n",
        "\n",
        "# YOUR CODE HERE\n"
      ]
    }
  ],
  "metadata": {
    "kernelspec": {
      "display_name": "nlp-emb",
      "language": "python",
      "name": "nlp-emb"
    },
    "language_info": {
      "codemirror_mode": {
        "name": "ipython",
        "version": 3
      },
      "file_extension": ".py",
      "mimetype": "text/x-python",
      "name": "python",
      "nbconvert_exporter": "python",
      "pygments_lexer": "ipython3",
      "version": "3.10.9"
    },
    "colab": {
      "provenance": []
    }
  },
  "nbformat": 4,
  "nbformat_minor": 0
}